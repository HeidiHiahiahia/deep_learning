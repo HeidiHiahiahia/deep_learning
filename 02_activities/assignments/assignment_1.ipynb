{
 "cells": [
  {
   "cell_type": "markdown",
   "id": "ba8ab56f",
   "metadata": {},
   "source": [
    "# Advanced Image Classification with ImageNet"
   ]
  },
  {
   "cell_type": "markdown",
   "id": "7c630244b8fe2847",
   "metadata": {
    "collapsed": false
   },
   "source": [
    "In this assignment, you will be asked to develop a convolutional neural network (CNN) to classify images from the CIFAR-100 dataset. At each step, you'll be guided through the process of developing a model architecture to solve a problem. Your goal is to create a CNN that attains at least 55% accuracy on the validation set.\n",
    "\n",
    "### The CIFAR-100 Dataset\n",
    "\n",
    "The [CIFAR-100 dataset](https://www.cs.toronto.edu/~kriz/cifar.html) consists of 60000 32x32 colour images in 100 classes, with 600 images per class. There are 50000 training images and 10000 test images. The dataset is divided into five training batches and one test batch, each with 10000 images. The test batch contains exactly 1000 randomly-selected images from each class. The training batches contain the remaining images in random order, but some training batches may contain more images from one class than another. Between them, the training batches contain exactly 500 images from each class.\n",
    "\n",
    "### Tools\n",
    "\n",
    "You will use Keras with TensorFlow to develop your CNN. For this assignment, it's strongly recommended that you use a GPU to accelerate your training, or else you might find it difficult to train your network in a reasonable amount of time. If you have a computer with a GPU that you wish to use, you can follow the [TensorFlow instructions](https://www.tensorflow.org/install/) for installing TensorFlow with GPU support. Otherwise, you can use [Google Colab](https://colab.research.google.com/) to complete this assignment. Colab provides free access to GPU-enabled machines. If you run into any issues, please contact us as soon as possible so that we can help you resolve them."
   ]
  },
  {
   "cell_type": "markdown",
   "id": "fab62988ece1528d",
   "metadata": {
    "collapsed": false
   },
   "source": [
    "## Task 1: Data Exploration and Preprocessing (Complete or Incomplete)\n",
    "### 1a: Load and Explore the Dataset\n",
    "- Use the code below to download the dataset.\n",
    "- Explore the dataset: examine the shape of the training and test sets, the dimensions of the images, and the number of classes. Show a few examples from the training set."
   ]
  },
  {
   "cell_type": "code",
   "execution_count": 6,
   "id": "7e68fe4d",
   "metadata": {},
   "outputs": [
    {
     "name": "stdout",
     "output_type": "stream",
     "text": [
      "Collecting tensorflow\n",
      "  Obtaining dependency information for tensorflow from https://files.pythonhosted.org/packages/6d/69/9999c2d9e8a3b08dfcfc7e9259a05fb1da5f700936091d2eb4a7985c2776/tensorflow-2.16.2-cp311-cp311-macosx_10_15_x86_64.whl.metadata\n",
      "  Downloading tensorflow-2.16.2-cp311-cp311-macosx_10_15_x86_64.whl.metadata (4.1 kB)\n",
      "Requirement already satisfied: absl-py>=1.0.0 in /Users/sitongye/anaconda3/lib/python3.11/site-packages (from tensorflow) (2.1.0)\n",
      "Collecting astunparse>=1.6.0 (from tensorflow)\n",
      "  Obtaining dependency information for astunparse>=1.6.0 from https://files.pythonhosted.org/packages/2b/03/13dde6512ad7b4557eb792fbcf0c653af6076b81e5941d36ec61f7ce6028/astunparse-1.6.3-py2.py3-none-any.whl.metadata\n",
      "  Downloading astunparse-1.6.3-py2.py3-none-any.whl.metadata (4.4 kB)\n",
      "Collecting flatbuffers>=23.5.26 (from tensorflow)\n",
      "  Obtaining dependency information for flatbuffers>=23.5.26 from https://files.pythonhosted.org/packages/41/f0/7e988a019bc54b2dbd0ad4182ef2d53488bb02e58694cd79d61369e85900/flatbuffers-24.3.25-py2.py3-none-any.whl.metadata\n",
      "  Downloading flatbuffers-24.3.25-py2.py3-none-any.whl.metadata (850 bytes)\n",
      "Collecting gast!=0.5.0,!=0.5.1,!=0.5.2,>=0.2.1 (from tensorflow)\n",
      "  Obtaining dependency information for gast!=0.5.0,!=0.5.1,!=0.5.2,>=0.2.1 from https://files.pythonhosted.org/packages/a3/61/8001b38461d751cd1a0c3a6ae84346796a5758123f3ed97a1b121dfbf4f3/gast-0.6.0-py3-none-any.whl.metadata\n",
      "  Downloading gast-0.6.0-py3-none-any.whl.metadata (1.3 kB)\n",
      "Collecting google-pasta>=0.1.1 (from tensorflow)\n",
      "  Obtaining dependency information for google-pasta>=0.1.1 from https://files.pythonhosted.org/packages/a3/de/c648ef6835192e6e2cc03f40b19eeda4382c49b5bafb43d88b931c4c74ac/google_pasta-0.2.0-py3-none-any.whl.metadata\n",
      "  Downloading google_pasta-0.2.0-py3-none-any.whl.metadata (814 bytes)\n",
      "Collecting h5py>=3.10.0 (from tensorflow)\n",
      "  Obtaining dependency information for h5py>=3.10.0 from https://files.pythonhosted.org/packages/a0/52/38bb74cc4362738cc7ef819503fc54d70f0c3a7378519ccb0ac309389122/h5py-3.11.0-cp311-cp311-macosx_10_9_x86_64.whl.metadata\n",
      "  Downloading h5py-3.11.0-cp311-cp311-macosx_10_9_x86_64.whl.metadata (2.5 kB)\n",
      "Collecting libclang>=13.0.0 (from tensorflow)\n",
      "  Obtaining dependency information for libclang>=13.0.0 from https://files.pythonhosted.org/packages/e2/e5/fc61bbded91a8830ccce94c5294ecd6e88e496cc85f6704bf350c0634b70/libclang-18.1.1-py2.py3-none-macosx_10_9_x86_64.whl.metadata\n",
      "  Downloading libclang-18.1.1-py2.py3-none-macosx_10_9_x86_64.whl.metadata (5.2 kB)\n",
      "Collecting ml-dtypes~=0.3.1 (from tensorflow)\n",
      "  Obtaining dependency information for ml-dtypes~=0.3.1 from https://files.pythonhosted.org/packages/6e/a4/6aabb78f1569550fd77c74d2c1d008b502c8ce72776bd88b14ea6c182c9e/ml_dtypes-0.3.2-cp311-cp311-macosx_10_9_universal2.whl.metadata\n",
      "  Downloading ml_dtypes-0.3.2-cp311-cp311-macosx_10_9_universal2.whl.metadata (20 kB)\n",
      "Collecting opt-einsum>=2.3.2 (from tensorflow)\n",
      "  Obtaining dependency information for opt-einsum>=2.3.2 from https://files.pythonhosted.org/packages/bc/19/404708a7e54ad2798907210462fd950c3442ea51acc8790f3da48d2bee8b/opt_einsum-3.3.0-py3-none-any.whl.metadata\n",
      "  Downloading opt_einsum-3.3.0-py3-none-any.whl.metadata (6.5 kB)\n",
      "Requirement already satisfied: packaging in /Users/sitongye/anaconda3/lib/python3.11/site-packages (from tensorflow) (23.1)\n",
      "Collecting protobuf!=4.21.0,!=4.21.1,!=4.21.2,!=4.21.3,!=4.21.4,!=4.21.5,<5.0.0dev,>=3.20.3 (from tensorflow)\n",
      "  Obtaining dependency information for protobuf!=4.21.0,!=4.21.1,!=4.21.2,!=4.21.3,!=4.21.4,!=4.21.5,<5.0.0dev,>=3.20.3 from https://files.pythonhosted.org/packages/34/ca/bf85ffe3dd16f1f2aaa6c006da8118800209af3da160ae4d4f47500eabd9/protobuf-4.25.4-cp37-abi3-macosx_10_9_universal2.whl.metadata\n",
      "  Downloading protobuf-4.25.4-cp37-abi3-macosx_10_9_universal2.whl.metadata (541 bytes)\n",
      "Requirement already satisfied: requests<3,>=2.21.0 in /Users/sitongye/anaconda3/lib/python3.11/site-packages (from tensorflow) (2.31.0)\n",
      "Requirement already satisfied: setuptools in /Users/sitongye/anaconda3/lib/python3.11/site-packages (from tensorflow) (68.0.0)\n",
      "Requirement already satisfied: six>=1.12.0 in /Users/sitongye/anaconda3/lib/python3.11/site-packages (from tensorflow) (1.16.0)\n",
      "Collecting termcolor>=1.1.0 (from tensorflow)\n",
      "  Obtaining dependency information for termcolor>=1.1.0 from https://files.pythonhosted.org/packages/d9/5f/8c716e47b3a50cbd7c146f45881e11d9414def768b7cd9c5e6650ec2a80a/termcolor-2.4.0-py3-none-any.whl.metadata\n",
      "  Downloading termcolor-2.4.0-py3-none-any.whl.metadata (6.1 kB)\n",
      "Requirement already satisfied: typing-extensions>=3.6.6 in /Users/sitongye/anaconda3/lib/python3.11/site-packages (from tensorflow) (4.12.1)\n",
      "Requirement already satisfied: wrapt>=1.11.0 in /Users/sitongye/anaconda3/lib/python3.11/site-packages (from tensorflow) (1.14.1)\n",
      "Collecting grpcio<2.0,>=1.24.3 (from tensorflow)\n",
      "  Obtaining dependency information for grpcio<2.0,>=1.24.3 from https://files.pythonhosted.org/packages/9d/ee/4ce71fac8935862bb43e4d2a30d286e3de4d9f53d0cf486daa2e379e5c8f/grpcio-1.65.4-cp311-cp311-macosx_10_9_universal2.whl.metadata\n",
      "  Downloading grpcio-1.65.4-cp311-cp311-macosx_10_9_universal2.whl.metadata (3.3 kB)\n",
      "Collecting tensorboard<2.17,>=2.16 (from tensorflow)\n",
      "  Obtaining dependency information for tensorboard<2.17,>=2.16 from https://files.pythonhosted.org/packages/3a/d0/b97889ffa769e2d1fdebb632084d5e8b53fc299d43a537acee7ec0c021a3/tensorboard-2.16.2-py3-none-any.whl.metadata\n",
      "  Downloading tensorboard-2.16.2-py3-none-any.whl.metadata (1.6 kB)\n",
      "Requirement already satisfied: keras>=3.0.0 in /Users/sitongye/anaconda3/lib/python3.11/site-packages (from tensorflow) (3.4.1)\n",
      "Collecting tensorflow-io-gcs-filesystem>=0.23.1 (from tensorflow)\n",
      "  Obtaining dependency information for tensorflow-io-gcs-filesystem>=0.23.1 from https://files.pythonhosted.org/packages/40/9b/b2fb82d0da673b17a334f785fc19c23483165019ddc33b275ef25ca31173/tensorflow_io_gcs_filesystem-0.37.1-cp311-cp311-macosx_10_14_x86_64.whl.metadata\n",
      "  Downloading tensorflow_io_gcs_filesystem-0.37.1-cp311-cp311-macosx_10_14_x86_64.whl.metadata (14 kB)\n",
      "Requirement already satisfied: numpy<2.0.0,>=1.23.5 in /Users/sitongye/anaconda3/lib/python3.11/site-packages (from tensorflow) (1.24.3)\n",
      "Requirement already satisfied: wheel<1.0,>=0.23.0 in /Users/sitongye/anaconda3/lib/python3.11/site-packages (from astunparse>=1.6.0->tensorflow) (0.38.4)\n",
      "Requirement already satisfied: rich in /Users/sitongye/anaconda3/lib/python3.11/site-packages (from keras>=3.0.0->tensorflow) (13.7.1)\n",
      "Requirement already satisfied: namex in /Users/sitongye/anaconda3/lib/python3.11/site-packages (from keras>=3.0.0->tensorflow) (0.0.8)\n",
      "Requirement already satisfied: optree in /Users/sitongye/anaconda3/lib/python3.11/site-packages (from keras>=3.0.0->tensorflow) (0.12.1)\n",
      "Requirement already satisfied: charset-normalizer<4,>=2 in /Users/sitongye/anaconda3/lib/python3.11/site-packages (from requests<3,>=2.21.0->tensorflow) (2.0.4)\n",
      "Requirement already satisfied: idna<4,>=2.5 in /Users/sitongye/anaconda3/lib/python3.11/site-packages (from requests<3,>=2.21.0->tensorflow) (3.4)\n",
      "Requirement already satisfied: urllib3<3,>=1.21.1 in /Users/sitongye/anaconda3/lib/python3.11/site-packages (from requests<3,>=2.21.0->tensorflow) (1.26.16)\n",
      "Requirement already satisfied: certifi>=2017.4.17 in /Users/sitongye/anaconda3/lib/python3.11/site-packages (from requests<3,>=2.21.0->tensorflow) (2023.7.22)\n",
      "Requirement already satisfied: markdown>=2.6.8 in /Users/sitongye/anaconda3/lib/python3.11/site-packages (from tensorboard<2.17,>=2.16->tensorflow) (3.4.1)\n",
      "Collecting tensorboard-data-server<0.8.0,>=0.7.0 (from tensorboard<2.17,>=2.16->tensorflow)\n",
      "  Obtaining dependency information for tensorboard-data-server<0.8.0,>=0.7.0 from https://files.pythonhosted.org/packages/b7/85/dabeaf902892922777492e1d253bb7e1264cadce3cea932f7ff599e53fea/tensorboard_data_server-0.7.2-py3-none-macosx_10_9_x86_64.whl.metadata\n",
      "  Downloading tensorboard_data_server-0.7.2-py3-none-macosx_10_9_x86_64.whl.metadata (1.1 kB)\n",
      "Requirement already satisfied: werkzeug>=1.0.1 in /Users/sitongye/anaconda3/lib/python3.11/site-packages (from tensorboard<2.17,>=2.16->tensorflow) (2.2.3)\n",
      "Requirement already satisfied: MarkupSafe>=2.1.1 in /Users/sitongye/anaconda3/lib/python3.11/site-packages (from werkzeug>=1.0.1->tensorboard<2.17,>=2.16->tensorflow) (2.1.1)\n",
      "Requirement already satisfied: markdown-it-py>=2.2.0 in /Users/sitongye/anaconda3/lib/python3.11/site-packages (from rich->keras>=3.0.0->tensorflow) (2.2.0)\n",
      "Requirement already satisfied: pygments<3.0.0,>=2.13.0 in /Users/sitongye/anaconda3/lib/python3.11/site-packages (from rich->keras>=3.0.0->tensorflow) (2.15.1)\n",
      "Requirement already satisfied: mdurl~=0.1 in /Users/sitongye/anaconda3/lib/python3.11/site-packages (from markdown-it-py>=2.2.0->rich->keras>=3.0.0->tensorflow) (0.1.0)\n",
      "Downloading tensorflow-2.16.2-cp311-cp311-macosx_10_15_x86_64.whl (259.6 MB)\n",
      "\u001b[2K   \u001b[90m━━━━━━━━━━━━━━━━━━━━━━━━━━━━━━━━━━━━━━━━\u001b[0m \u001b[32m259.6/259.6 MB\u001b[0m \u001b[31m1.2 MB/s\u001b[0m eta \u001b[36m0:00:00\u001b[0m:00:01\u001b[0m0:01\u001b[0mm\n",
      "\u001b[?25hUsing cached astunparse-1.6.3-py2.py3-none-any.whl (12 kB)\n",
      "Downloading flatbuffers-24.3.25-py2.py3-none-any.whl (26 kB)\n",
      "Downloading gast-0.6.0-py3-none-any.whl (21 kB)\n",
      "Using cached google_pasta-0.2.0-py3-none-any.whl (57 kB)\n",
      "Downloading grpcio-1.65.4-cp311-cp311-macosx_10_9_universal2.whl (10.4 MB)\n",
      "\u001b[2K   \u001b[90m━━━━━━━━━━━━━━━━━━━━━━━━━━━━━━━━━━━━━━━━\u001b[0m \u001b[32m10.4/10.4 MB\u001b[0m \u001b[31m9.1 MB/s\u001b[0m eta \u001b[36m0:00:00\u001b[0m:00:01\u001b[0m00:01\u001b[0m\n",
      "\u001b[?25hDownloading h5py-3.11.0-cp311-cp311-macosx_10_9_x86_64.whl (3.5 MB)\n",
      "\u001b[2K   \u001b[90m━━━━━━━━━━━━━━━━━━━━━━━━━━━━━━━━━━━━━━━━\u001b[0m \u001b[32m3.5/3.5 MB\u001b[0m \u001b[31m7.3 MB/s\u001b[0m eta \u001b[36m0:00:00\u001b[0m:00:01\u001b[0m00:01\u001b[0m\n",
      "\u001b[?25hDownloading libclang-18.1.1-py2.py3-none-macosx_10_9_x86_64.whl (26.5 MB)\n",
      "\u001b[2K   \u001b[90m━━━━━━━━━━━━━━━━━━━━━━━━━━━━━━━━━━━━━━━━\u001b[0m \u001b[32m26.5/26.5 MB\u001b[0m \u001b[31m6.7 MB/s\u001b[0m eta \u001b[36m0:00:00\u001b[0m00:01\u001b[0m00:01\u001b[0m\n",
      "\u001b[?25hDownloading ml_dtypes-0.3.2-cp311-cp311-macosx_10_9_universal2.whl (389 kB)\n",
      "\u001b[2K   \u001b[90m━━━━━━━━━━━━━━━━━━━━━━━━━━━━━━━━━━━━━━━━\u001b[0m \u001b[32m389.8/389.8 kB\u001b[0m \u001b[31m4.7 MB/s\u001b[0m eta \u001b[36m0:00:00\u001b[0m:00:01\u001b[0m\n",
      "\u001b[?25hUsing cached opt_einsum-3.3.0-py3-none-any.whl (65 kB)\n",
      "Downloading protobuf-4.25.4-cp37-abi3-macosx_10_9_universal2.whl (394 kB)\n",
      "\u001b[2K   \u001b[90m━━━━━━━━━━━━━━━━━━━━━━━━━━━━━━━━━━━━━━━━\u001b[0m \u001b[32m394.2/394.2 kB\u001b[0m \u001b[31m4.1 MB/s\u001b[0m eta \u001b[36m0:00:00\u001b[0m:00:01\u001b[0m\n",
      "\u001b[?25hDownloading tensorboard-2.16.2-py3-none-any.whl (5.5 MB)\n",
      "\u001b[2K   \u001b[90m━━━━━━━━━━━━━━━━━━━━━━━━━━━━━━━━━━━━━━━━\u001b[0m \u001b[32m5.5/5.5 MB\u001b[0m \u001b[31m7.0 MB/s\u001b[0m eta \u001b[36m0:00:00\u001b[0m00:01\u001b[0m00:01\u001b[0mm\n",
      "\u001b[?25hDownloading tensorflow_io_gcs_filesystem-0.37.1-cp311-cp311-macosx_10_14_x86_64.whl (2.5 MB)\n",
      "\u001b[2K   \u001b[90m━━━━━━━━━━━━━━━━━━━━━━━━━━━━━━━━━━━━━━━━\u001b[0m \u001b[32m2.5/2.5 MB\u001b[0m \u001b[31m6.9 MB/s\u001b[0m eta \u001b[36m0:00:00\u001b[0m00:01\u001b[0m00:01\u001b[0m\n",
      "\u001b[?25hDownloading termcolor-2.4.0-py3-none-any.whl (7.7 kB)\n",
      "Downloading tensorboard_data_server-0.7.2-py3-none-macosx_10_9_x86_64.whl (4.8 MB)\n",
      "\u001b[2K   \u001b[90m━━━━━━━━━━━━━━━━━━━━━━━━━━━━━━━━━━━━━━━━\u001b[0m \u001b[32m4.8/4.8 MB\u001b[0m \u001b[31m9.8 MB/s\u001b[0m eta \u001b[36m0:00:00\u001b[0m:00:01\u001b[0m00:01\u001b[0m\n",
      "\u001b[?25hInstalling collected packages: libclang, flatbuffers, termcolor, tensorflow-io-gcs-filesystem, tensorboard-data-server, protobuf, opt-einsum, ml-dtypes, h5py, grpcio, google-pasta, gast, astunparse, tensorboard, tensorflow\n",
      "  Attempting uninstall: ml-dtypes\n",
      "    Found existing installation: ml-dtypes 0.4.0\n",
      "    Uninstalling ml-dtypes-0.4.0:\n",
      "      Successfully uninstalled ml-dtypes-0.4.0\n",
      "  Attempting uninstall: h5py\n",
      "    Found existing installation: h5py 3.9.0\n",
      "    Uninstalling h5py-3.9.0:\n",
      "      Successfully uninstalled h5py-3.9.0\n",
      "Successfully installed astunparse-1.6.3 flatbuffers-24.3.25 gast-0.6.0 google-pasta-0.2.0 grpcio-1.65.4 h5py-3.11.0 libclang-18.1.1 ml-dtypes-0.3.2 opt-einsum-3.3.0 protobuf-4.25.4 tensorboard-2.16.2 tensorboard-data-server-0.7.2 tensorflow-2.16.2 tensorflow-io-gcs-filesystem-0.37.1 termcolor-2.4.0\n"
     ]
    }
   ],
   "source": [
    "!pip install tensorflow\n"
   ]
  },
  {
   "cell_type": "code",
   "execution_count": 7,
   "id": "4bb50371",
   "metadata": {},
   "outputs": [
    {
     "name": "stdout",
     "output_type": "stream",
     "text": [
      "Requirement already satisfied: keras in /Users/sitongye/anaconda3/lib/python3.11/site-packages (3.4.1)\n",
      "Requirement already satisfied: absl-py in /Users/sitongye/anaconda3/lib/python3.11/site-packages (from keras) (2.1.0)\n",
      "Requirement already satisfied: numpy in /Users/sitongye/anaconda3/lib/python3.11/site-packages (from keras) (1.24.3)\n",
      "Requirement already satisfied: rich in /Users/sitongye/anaconda3/lib/python3.11/site-packages (from keras) (13.7.1)\n",
      "Requirement already satisfied: namex in /Users/sitongye/anaconda3/lib/python3.11/site-packages (from keras) (0.0.8)\n",
      "Requirement already satisfied: h5py in /Users/sitongye/anaconda3/lib/python3.11/site-packages (from keras) (3.11.0)\n",
      "Requirement already satisfied: optree in /Users/sitongye/anaconda3/lib/python3.11/site-packages (from keras) (0.12.1)\n",
      "Requirement already satisfied: ml-dtypes in /Users/sitongye/anaconda3/lib/python3.11/site-packages (from keras) (0.3.2)\n",
      "Requirement already satisfied: packaging in /Users/sitongye/anaconda3/lib/python3.11/site-packages (from keras) (23.1)\n",
      "Requirement already satisfied: typing-extensions>=4.5.0 in /Users/sitongye/anaconda3/lib/python3.11/site-packages (from optree->keras) (4.12.1)\n",
      "Requirement already satisfied: markdown-it-py>=2.2.0 in /Users/sitongye/anaconda3/lib/python3.11/site-packages (from rich->keras) (2.2.0)\n",
      "Requirement already satisfied: pygments<3.0.0,>=2.13.0 in /Users/sitongye/anaconda3/lib/python3.11/site-packages (from rich->keras) (2.15.1)\n",
      "Requirement already satisfied: mdurl~=0.1 in /Users/sitongye/anaconda3/lib/python3.11/site-packages (from markdown-it-py>=2.2.0->rich->keras) (0.1.0)\n"
     ]
    }
   ],
   "source": [
    "!pip install keras "
   ]
  },
  {
   "cell_type": "code",
   "execution_count": 3,
   "id": "8820fcdc5ae52ae2",
   "metadata": {
    "ExecuteTime": {
     "start_time": "2024-01-26T17:04:08.432758Z"
    },
    "collapsed": false,
    "is_executing": true
   },
   "outputs": [],
   "source": [
    "from keras.datasets import cifar100\n",
    "\n",
    "# Load the CIFAR-100 dataset\n",
    "(x_train, y_train), (x_test, y_test) = cifar100.load_data(label_mode='fine')"
   ]
  },
  {
   "cell_type": "code",
   "execution_count": 4,
   "id": "998547a1",
   "metadata": {},
   "outputs": [
    {
     "name": "stdout",
     "output_type": "stream",
     "text": [
      "[255 255 255]\n",
      "<class 'numpy.ndarray'>\n",
      "X_train shape: (50000, 32, 32, 3)\n",
      "y_train shape: (50000, 1)\n",
      "X_test shape: (10000, 32, 32, 3)\n",
      "y_test shape: (10000, 1)\n"
     ]
    }
   ],
   "source": [
    "\n",
    "print(x_train[0][0][0])\n",
    "print(type(x_train))\n",
    "\n",
    "print(f'X_train shape: {x_train.shape}')\n",
    "print(f'y_train shape: {y_train.shape}')\n",
    "print(f'X_test shape: {x_test.shape}')\n",
    "print(f'y_test shape: {y_test.shape}')"
   ]
  },
  {
   "cell_type": "code",
   "execution_count": 10,
   "id": "06c6a861",
   "metadata": {},
   "outputs": [
    {
     "name": "stdout",
     "output_type": "stream",
     "text": [
      "y_train example: [35]\n",
      "y_train example: [87]\n",
      "y_train example: [8]\n"
     ]
    }
   ],
   "source": [
    "print(f'y_train example: {y_train[92]}')\n",
    "print(f'y_train example: {y_train[23]}')\n",
    "print(f'y_train example: {y_train[16]}')"
   ]
  },
  {
   "cell_type": "code",
   "execution_count": 13,
   "id": "1ccdf957",
   "metadata": {},
   "outputs": [],
   "source": [
    "num_classes= len(set(y_train.flatten()))"
   ]
  },
  {
   "cell_type": "markdown",
   "id": "ad49291da3a819ea",
   "metadata": {
    "collapsed": false
   },
   "source": [
    "### 1b: Data Preprocessing (4 Marks)\n",
    "- With the data downloaded, it's time to preprocess it. Start by normalizing the images so that they all have pixel values in the range [0, 1].\n",
    "- Next, convert the labels to one-hot encoded vectors.\n",
    "- Finally, split the training set into training and validation sets. Use 80% of the training set for training and the remaining 20% for validation."
   ]
  },
  {
   "cell_type": "code",
   "execution_count": 11,
   "id": "b18c10172fa72d0c",
   "metadata": {
    "collapsed": false
   },
   "outputs": [],
   "source": [
    "\n",
    "x_train_n = x_train / 255.0\n",
    "x_test_n = x_test / 255.0\n",
    "\n",
    "#y_train_n = y_train / 255.0\n",
    "#y_test_n = y_test / 255.0\n",
    "\n",
    "\n"
   ]
  },
  {
   "cell_type": "code",
   "execution_count": 37,
   "id": "6d7b775f",
   "metadata": {},
   "outputs": [],
   "source": [
    "import tensorflow as tf"
   ]
  },
  {
   "cell_type": "code",
   "execution_count": 14,
   "id": "e961cdb0",
   "metadata": {},
   "outputs": [
    {
     "name": "stdout",
     "output_type": "stream",
     "text": [
      "Before one-hot encoding: [19]\n",
      "After one-hot encoding: [0. 0. 0. 0. 0. 0. 0. 0. 0. 0. 0. 0. 0. 0. 0. 0. 0. 0. 0. 1. 0. 0. 0. 0.\n",
      " 0. 0. 0. 0. 0. 0. 0. 0. 0. 0. 0. 0. 0. 0. 0. 0. 0. 0. 0. 0. 0. 0. 0. 0.\n",
      " 0. 0. 0. 0. 0. 0. 0. 0. 0. 0. 0. 0. 0. 0. 0. 0. 0. 0. 0. 0. 0. 0. 0. 0.\n",
      " 0. 0. 0. 0. 0. 0. 0. 0. 0. 0. 0. 0. 0. 0. 0. 0. 0. 0. 0. 0. 0. 0. 0. 0.\n",
      " 0. 0. 0. 0.]\n"
     ]
    }
   ],
   "source": [
    "\n",
    "from tensorflow.keras.utils import to_categorical\n",
    "\n",
    "print(f'Before one-hot encoding: {y_train[0]}')\n",
    "y_train = to_categorical(y_train, num_classes)\n",
    "y_test = to_categorical(y_test, num_classes)\n",
    "print(f'After one-hot encoding: {y_train[0]}')\n"
   ]
  },
  {
   "cell_type": "code",
   "execution_count": 25,
   "id": "eaf84bc0",
   "metadata": {},
   "outputs": [],
   "source": [
    "from sklearn.model_selection import train_test_split\n",
    "\n",
    "x_train_n1, x_val, y_train1, y_val = train_test_split(x_train_n, y_train, test_size=0.2, random_state=42)\n"
   ]
  },
  {
   "cell_type": "markdown",
   "id": "95618020",
   "metadata": {},
   "source": []
  },
  {
   "cell_type": "markdown",
   "id": "5993757f08c89db7",
   "metadata": {
    "collapsed": false
   },
   "source": [
    "## Task 2: Model Development (Complete or Incomplete)\n",
    "### Task 2a: Create a Baseline CNN Model\n",
    "- Design a CNN architecture. Your architecture should use convolutional layers, max pooling layers, and dense layers. You can use any number of layers, and you can experiment with different numbers of filters, filter sizes, strides, padding, etc. The design doesn't need to be perfect, but it should be unique to you.\n",
    "- Print out the model summary."
   ]
  },
  {
   "cell_type": "code",
   "execution_count": 35,
   "id": "c9edafdaf887b8d5",
   "metadata": {
    "collapsed": false
   },
   "outputs": [],
   "source": [
    "from keras.models import Sequential\n",
    "from keras.layers import Conv2D, MaxPooling2D, Flatten, Dense\n",
    "\n",
    "# Your code here\n",
    "def cnn_model(input_shape=(32, 32, 3)):\n",
    "     \n",
    "    model = Sequential()\n",
    "     \n",
    "    #------------------------------------\n",
    "    # Conv Block 1: 32 Filters, MaxPool.\n",
    "    #------------------------------------\n",
    "    model.add(Conv2D(filters=32, kernel_size=(3,3),strides=(1,1), padding='same', activation='relu', input_shape=input_shape))\n",
    "    model.add(Conv2D(filters=32, kernel_size=(3,3),strides=(1,1), padding='same', activation='relu'))\n",
    "    model.add(MaxPooling2D(pool_size=(2, 2)))\n",
    " \n",
    "    #------------------------------------\n",
    "    # Conv Block 2: 64 Filters, MaxPool.\n",
    "    #------------------------------------\n",
    "    model.add(Conv2D(filters=64, kernel_size=(3,3),strides=(1,1),  padding='same', activation='relu'))\n",
    "    model.add(Conv2D(filters=64, kernel_size=(3,3),strides=(1,1),  padding='same', activation='relu'))\n",
    "    model.add(MaxPooling2D(pool_size=(2, 2)))\n",
    " \n",
    "    #------------------------------------\n",
    "    # Conv Block 3: 64 Filters, MaxPool.\n",
    "    #------------------------------------\n",
    "    model.add(Conv2D(filters=64, kernel_size=(3,3),strides=(1,1),  padding='same', activation='relu'))\n",
    "    model.add(Conv2D(filters=64, kernel_size=(3,3),strides=(1,1),  padding='same', activation='relu'))\n",
    "    model.add(MaxPooling2D(pool_size=(2, 2)))\n",
    "     \n",
    "    #------------------------------------\n",
    "    # Flatten the convolutional features.\n",
    "    #------------------------------------\n",
    "    model.add(Flatten())\n",
    "    model.add(Dense(512, activation='relu'))\n",
    "    model.add(Dense(100, activation='softmax'))\n",
    "    \n",
    "    model.compile(optimizer=\"adam\", loss='categorical_crossentropy', metrics=[\"accuracy\"]) \n",
    "\n",
    "     \n",
    "    return model\n"
   ]
  },
  {
   "cell_type": "markdown",
   "id": "546324c007c73db5",
   "metadata": {
    "collapsed": false
   },
   "source": [
    "### Task 2b: Compile the model\n",
    "\n",
    "- Select an appropriate loss function and optimizer for your model. These can be ones we have looked at already, or they can be different. \n",
    "- Briefly explain your choices (one or two sentences each).\n",
    "- <b>Loss function:</b> ______\n",
    "- <b>Optimizer:</b> ______"
   ]
  },
  {
   "cell_type": "markdown",
   "id": "b9802f39",
   "metadata": {},
   "source": [
    "Answer:\n",
    "optimizer='adam': Specifies the Adam optimizer, known for its adaptive learning rate capabilities.\n",
    "loss='categorical_crossentropy': Specifies the categorical crossentropy loss function, suitable for multi-class classification tasks."
   ]
  },
  {
   "cell_type": "markdown",
   "id": "653fba928413b9f6",
   "metadata": {
    "collapsed": false
   },
   "source": [
    "## Task 3: Model Training and Evaluation (Complete or Incomplete)\n",
    "### Task 3a: Train the Model\n",
    "\n",
    "- Train your model for an appropriate number of epochs. Explain your choice of the number of epochs used - you can change this number before submitting your assignment.\n",
    "- Use a batch size of 32.\n",
    "- Use the validation set for validation."
   ]
  },
  {
   "cell_type": "code",
   "execution_count": 28,
   "id": "b66726b1",
   "metadata": {},
   "outputs": [
    {
     "data": {
      "text/plain": [
       "array([[[[0.85098039, 0.81568627, 0.63137255],\n",
       "         [0.85490196, 0.81176471, 0.63137255],\n",
       "         [0.87843137, 0.83137255, 0.65882353],\n",
       "         ...,\n",
       "         [0.76078431, 0.6745098 , 0.47843137],\n",
       "         [0.78431373, 0.69411765, 0.49019608],\n",
       "         [0.76470588, 0.67058824, 0.47058824]],\n",
       "\n",
       "        [[0.87058824, 0.82745098, 0.64705882],\n",
       "         [0.8745098 , 0.83137255, 0.65098039],\n",
       "         [0.89411765, 0.84705882, 0.67843137],\n",
       "         ...,\n",
       "         [0.74901961, 0.64313725, 0.44313725],\n",
       "         [0.77647059, 0.67058824, 0.4627451 ],\n",
       "         [0.74901961, 0.63921569, 0.43921569]],\n",
       "\n",
       "        [[0.85490196, 0.81960784, 0.65490196],\n",
       "         [0.88627451, 0.84705882, 0.69411765],\n",
       "         [0.88235294, 0.85098039, 0.70980392],\n",
       "         ...,\n",
       "         [0.73333333, 0.61176471, 0.40784314],\n",
       "         [0.75686275, 0.63921569, 0.43529412],\n",
       "         [0.72941176, 0.61568627, 0.41568627]],\n",
       "\n",
       "        ...,\n",
       "\n",
       "        [[0.85098039, 0.8       , 0.65882353],\n",
       "         [0.89019608, 0.8627451 , 0.74117647],\n",
       "         [0.90980392, 0.89019608, 0.78039216],\n",
       "         ...,\n",
       "         [0.51764706, 0.51764706, 0.33333333],\n",
       "         [0.57647059, 0.57647059, 0.36862745],\n",
       "         [0.56862745, 0.56470588, 0.35686275]],\n",
       "\n",
       "        [[0.88627451, 0.85098039, 0.72941176],\n",
       "         [0.9254902 , 0.91372549, 0.81568627],\n",
       "         [0.94117647, 0.9372549 , 0.85490196],\n",
       "         ...,\n",
       "         [0.55294118, 0.55294118, 0.38039216],\n",
       "         [0.5372549 , 0.53333333, 0.34901961],\n",
       "         [0.51372549, 0.50588235, 0.3254902 ]],\n",
       "\n",
       "        [[0.89411765, 0.88235294, 0.78039216],\n",
       "         [0.91764706, 0.91372549, 0.83529412],\n",
       "         [0.94901961, 0.94509804, 0.87843137],\n",
       "         ...,\n",
       "         [0.44313725, 0.43921569, 0.29019608],\n",
       "         [0.41176471, 0.41176471, 0.2627451 ],\n",
       "         [0.43529412, 0.43529412, 0.30588235]]],\n",
       "\n",
       "\n",
       "       [[[0.74509804, 0.78823529, 0.77254902],\n",
       "         [0.79607843, 0.82745098, 0.81568627],\n",
       "         [0.82745098, 0.85098039, 0.84705882],\n",
       "         ...,\n",
       "         [0.94509804, 0.96470588, 0.94117647],\n",
       "         [0.9372549 , 0.95686275, 0.9372549 ],\n",
       "         [0.91764706, 0.94117647, 0.92941176]],\n",
       "\n",
       "        [[0.57647059, 0.61960784, 0.60392157],\n",
       "         [0.60784314, 0.63921569, 0.62745098],\n",
       "         [0.64313725, 0.67058824, 0.65098039],\n",
       "         ...,\n",
       "         [0.86666667, 0.88627451, 0.87058824],\n",
       "         [0.81568627, 0.83921569, 0.82352941],\n",
       "         [0.80784314, 0.83921569, 0.83137255]],\n",
       "\n",
       "        [[0.4627451 , 0.50588235, 0.49019608],\n",
       "         [0.47058824, 0.50196078, 0.49411765],\n",
       "         [0.50196078, 0.5254902 , 0.50588235],\n",
       "         ...,\n",
       "         [0.69803922, 0.7254902 , 0.71372549],\n",
       "         [0.60392157, 0.63529412, 0.62745098],\n",
       "         [0.63137255, 0.66666667, 0.6627451 ]],\n",
       "\n",
       "        ...,\n",
       "\n",
       "        [[0.23529412, 0.2745098 , 0.24313725],\n",
       "         [0.25490196, 0.29411765, 0.2627451 ],\n",
       "         [0.26666667, 0.30196078, 0.27058824],\n",
       "         ...,\n",
       "         [0.30980392, 0.3254902 , 0.29411765],\n",
       "         [0.30196078, 0.3254902 , 0.29803922],\n",
       "         [0.30196078, 0.32941176, 0.30196078]],\n",
       "\n",
       "        [[0.21568627, 0.25490196, 0.22352941],\n",
       "         [0.23921569, 0.27843137, 0.24705882],\n",
       "         [0.2627451 , 0.29803922, 0.26666667],\n",
       "         ...,\n",
       "         [0.32941176, 0.34117647, 0.30196078],\n",
       "         [0.32156863, 0.34509804, 0.30980392],\n",
       "         [0.31372549, 0.34509804, 0.30980392]],\n",
       "\n",
       "        [[0.21176471, 0.25098039, 0.21960784],\n",
       "         [0.23137255, 0.27058824, 0.24313725],\n",
       "         [0.25098039, 0.28627451, 0.25882353],\n",
       "         ...,\n",
       "         [0.34509804, 0.35686275, 0.31372549],\n",
       "         [0.33333333, 0.35686275, 0.31372549],\n",
       "         [0.31764706, 0.34901961, 0.30588235]]],\n",
       "\n",
       "\n",
       "       [[[0.51764706, 0.69019608, 0.98823529],\n",
       "         [0.51764706, 0.69019608, 0.98823529],\n",
       "         [0.52941176, 0.69803922, 1.        ],\n",
       "         ...,\n",
       "         [0.60392157, 0.76470588, 1.        ],\n",
       "         [0.56078431, 0.73333333, 1.        ],\n",
       "         [0.5372549 , 0.70588235, 1.        ]],\n",
       "\n",
       "        [[0.58431373, 0.72156863, 0.97254902],\n",
       "         [0.55294118, 0.69803922, 0.96078431],\n",
       "         [0.55294118, 0.70588235, 0.97254902],\n",
       "         ...,\n",
       "         [0.6       , 0.76078431, 0.99607843],\n",
       "         [0.55294118, 0.72156863, 1.        ],\n",
       "         [0.52941176, 0.69411765, 0.99215686]],\n",
       "\n",
       "        [[0.6745098 , 0.78039216, 0.98823529],\n",
       "         [0.63137255, 0.74901961, 0.97647059],\n",
       "         [0.59607843, 0.73333333, 0.97647059],\n",
       "         ...,\n",
       "         [0.58431373, 0.74117647, 0.99215686],\n",
       "         [0.54117647, 0.70980392, 0.99607843],\n",
       "         [0.52156863, 0.68627451, 0.98823529]],\n",
       "\n",
       "        ...,\n",
       "\n",
       "        [[0.78039216, 0.83921569, 0.97647059],\n",
       "         [0.78823529, 0.84313725, 0.98431373],\n",
       "         [0.78823529, 0.84313725, 0.98431373],\n",
       "         ...,\n",
       "         [0.78431373, 0.85490196, 1.        ],\n",
       "         [0.78431373, 0.85490196, 0.99607843],\n",
       "         [0.77254902, 0.84313725, 0.98039216]],\n",
       "\n",
       "        [[0.76862745, 0.83529412, 0.97647059],\n",
       "         [0.77647059, 0.83921569, 0.98431373],\n",
       "         [0.77647059, 0.83921569, 0.98431373],\n",
       "         ...,\n",
       "         [0.77647059, 0.84705882, 1.        ],\n",
       "         [0.77647059, 0.84705882, 0.99607843],\n",
       "         [0.76862745, 0.83921569, 0.98039216]],\n",
       "\n",
       "        [[0.75294118, 0.82745098, 0.98039216],\n",
       "         [0.75686275, 0.83529412, 0.98823529],\n",
       "         [0.76078431, 0.83529412, 0.99215686],\n",
       "         ...,\n",
       "         [0.77254902, 0.83529412, 1.        ],\n",
       "         [0.76470588, 0.83529412, 0.99607843],\n",
       "         [0.75686275, 0.82745098, 0.98039216]]],\n",
       "\n",
       "\n",
       "       ...,\n",
       "\n",
       "\n",
       "       [[[0.36862745, 0.40784314, 0.5254902 ],\n",
       "         [0.2745098 , 0.44313725, 0.61176471],\n",
       "         [0.31764706, 0.41568627, 0.63921569],\n",
       "         ...,\n",
       "         [0.41960784, 0.4627451 , 0.65490196],\n",
       "         [0.43137255, 0.45490196, 0.68235294],\n",
       "         [0.43921569, 0.45098039, 0.65098039]],\n",
       "\n",
       "        [[0.36078431, 0.41960784, 0.59215686],\n",
       "         [0.27058824, 0.4627451 , 0.68235294],\n",
       "         [0.31372549, 0.43529412, 0.70980392],\n",
       "         ...,\n",
       "         [0.33333333, 0.52156863, 0.72156863],\n",
       "         [0.34509804, 0.51372549, 0.74509804],\n",
       "         [0.37254902, 0.50588235, 0.70588235]],\n",
       "\n",
       "        [[0.37647059, 0.45490196, 0.58431373],\n",
       "         [0.28627451, 0.49803922, 0.66666667],\n",
       "         [0.32941176, 0.46666667, 0.69019608],\n",
       "         ...,\n",
       "         [0.35294118, 0.54901961, 0.72156863],\n",
       "         [0.36862745, 0.5372549 , 0.74117647],\n",
       "         [0.4       , 0.52941176, 0.69803922]],\n",
       "\n",
       "        ...,\n",
       "\n",
       "        [[0.17254902, 0.11372549, 0.14117647],\n",
       "         [0.10196078, 0.17254902, 0.18039216],\n",
       "         [0.13333333, 0.16078431, 0.2       ],\n",
       "         ...,\n",
       "         [0.27058824, 0.28627451, 0.30196078],\n",
       "         [0.29411765, 0.33333333, 0.37254902],\n",
       "         [0.35686275, 0.36862745, 0.38823529]],\n",
       "\n",
       "        [[0.36078431, 0.27843137, 0.29411765],\n",
       "         [0.29803922, 0.34509804, 0.34117647],\n",
       "         [0.33333333, 0.33333333, 0.36470588],\n",
       "         ...,\n",
       "         [0.25882353, 0.29803922, 0.32156863],\n",
       "         [0.25490196, 0.3254902 , 0.36862745],\n",
       "         [0.30196078, 0.34509804, 0.36862745]],\n",
       "\n",
       "        [[0.21176471, 0.13333333, 0.1254902 ],\n",
       "         [0.14901961, 0.18431373, 0.16078431],\n",
       "         [0.16862745, 0.18431373, 0.18823529],\n",
       "         ...,\n",
       "         [0.25490196, 0.27843137, 0.30588235],\n",
       "         [0.25882353, 0.29411765, 0.35294118],\n",
       "         [0.30980392, 0.32156863, 0.35686275]]],\n",
       "\n",
       "\n",
       "       [[[0.99607843, 0.99607843, 0.99607843],\n",
       "         [0.97254902, 0.97254902, 0.97254902],\n",
       "         [0.94901961, 0.96078431, 0.95686275],\n",
       "         ...,\n",
       "         [0.98431373, 0.98431373, 0.98431373],\n",
       "         [0.98431373, 0.98431373, 0.98431373],\n",
       "         [0.98431373, 0.98431373, 0.98431373]],\n",
       "\n",
       "        [[0.99215686, 0.99215686, 0.99215686],\n",
       "         [0.97647059, 0.97254902, 0.97254902],\n",
       "         [0.88627451, 0.90196078, 0.89803922],\n",
       "         ...,\n",
       "         [0.98039216, 0.98039216, 0.98039216],\n",
       "         [0.98039216, 0.98039216, 0.98039216],\n",
       "         [0.98039216, 0.98039216, 0.98039216]],\n",
       "\n",
       "        [[0.99607843, 0.99607843, 0.99215686],\n",
       "         [0.98823529, 0.98823529, 0.98431373],\n",
       "         [0.79215686, 0.81568627, 0.82745098],\n",
       "         ...,\n",
       "         [0.98431373, 0.98431373, 0.98431373],\n",
       "         [0.98431373, 0.98431373, 0.98431373],\n",
       "         [0.98431373, 0.98039216, 0.98039216]],\n",
       "\n",
       "        ...,\n",
       "\n",
       "        [[0.43921569, 0.44313725, 0.39607843],\n",
       "         [0.45098039, 0.46666667, 0.41568627],\n",
       "         [0.44705882, 0.46666667, 0.41176471],\n",
       "         ...,\n",
       "         [0.55294118, 0.53333333, 0.52156863],\n",
       "         [0.56078431, 0.54117647, 0.52941176],\n",
       "         [0.55294118, 0.53333333, 0.52156863]],\n",
       "\n",
       "        [[0.43137255, 0.44705882, 0.39607843],\n",
       "         [0.44705882, 0.45882353, 0.41176471],\n",
       "         [0.4627451 , 0.4745098 , 0.42745098],\n",
       "         ...,\n",
       "         [0.56078431, 0.54117647, 0.52941176],\n",
       "         [0.55294118, 0.53333333, 0.52156863],\n",
       "         [0.55686275, 0.53333333, 0.52156863]],\n",
       "\n",
       "        [[0.53333333, 0.53333333, 0.49411765],\n",
       "         [0.53333333, 0.53333333, 0.49411765],\n",
       "         [0.54509804, 0.54509804, 0.50588235],\n",
       "         ...,\n",
       "         [0.57647059, 0.56470588, 0.54901961],\n",
       "         [0.56862745, 0.55686275, 0.54117647],\n",
       "         [0.55686275, 0.53333333, 0.5254902 ]]],\n",
       "\n",
       "\n",
       "       [[[0.38039216, 0.57647059, 0.71764706],\n",
       "         [0.70980392, 0.79607843, 0.90196078],\n",
       "         [0.48235294, 0.56078431, 0.66666667],\n",
       "         ...,\n",
       "         [0.54117647, 0.63529412, 0.50196078],\n",
       "         [0.47843137, 0.58039216, 0.44313725],\n",
       "         [0.43921569, 0.58431373, 0.42745098]],\n",
       "\n",
       "        [[0.60784314, 0.70196078, 0.77647059],\n",
       "         [0.80784314, 0.76470588, 0.83529412],\n",
       "         [0.56078431, 0.54901961, 0.63137255],\n",
       "         ...,\n",
       "         [0.33333333, 0.50196078, 0.31764706],\n",
       "         [0.32941176, 0.50588235, 0.3254902 ],\n",
       "         [0.36078431, 0.54117647, 0.36862745]],\n",
       "\n",
       "        [[0.45882353, 0.51764706, 0.58039216],\n",
       "         [0.71764706, 0.6745098 , 0.72941176],\n",
       "         [0.54509804, 0.54509804, 0.61568627],\n",
       "         ...,\n",
       "         [0.30196078, 0.51372549, 0.31372549],\n",
       "         [0.26666667, 0.48235294, 0.29411765],\n",
       "         [0.3372549 , 0.51764706, 0.34509804]],\n",
       "\n",
       "        ...,\n",
       "\n",
       "        [[0.32156863, 0.54117647, 0.25098039],\n",
       "         [0.31372549, 0.54117647, 0.24313725],\n",
       "         [0.29803922, 0.53333333, 0.22745098],\n",
       "         ...,\n",
       "         [0.31764706, 0.50588235, 0.2627451 ],\n",
       "         [0.29411765, 0.4745098 , 0.24705882],\n",
       "         [0.29019608, 0.47843137, 0.23137255]],\n",
       "\n",
       "        [[0.30588235, 0.52941176, 0.23529412],\n",
       "         [0.31372549, 0.54117647, 0.23921569],\n",
       "         [0.30196078, 0.5372549 , 0.22745098],\n",
       "         ...,\n",
       "         [0.3254902 , 0.54901961, 0.26666667],\n",
       "         [0.30980392, 0.51372549, 0.25490196],\n",
       "         [0.34117647, 0.5372549 , 0.26666667]],\n",
       "\n",
       "        [[0.30588235, 0.52156863, 0.23137255],\n",
       "         [0.31764706, 0.52156863, 0.22745098],\n",
       "         [0.32941176, 0.5254902 , 0.23137255],\n",
       "         ...,\n",
       "         [0.32941176, 0.54117647, 0.25490196],\n",
       "         [0.31764706, 0.52156863, 0.24313725],\n",
       "         [0.34117647, 0.5372549 , 0.25490196]]]])"
      ]
     },
     "execution_count": 28,
     "metadata": {},
     "output_type": "execute_result"
    }
   ],
   "source": [
    "x_val"
   ]
  },
  {
   "cell_type": "code",
   "execution_count": 32,
   "id": "f123d104",
   "metadata": {},
   "outputs": [
    {
     "data": {
      "text/plain": [
       "(40000, 32, 32, 3)"
      ]
     },
     "execution_count": 32,
     "metadata": {},
     "output_type": "execute_result"
    }
   ],
   "source": [
    "x_train_n1.shape"
   ]
  },
  {
   "cell_type": "code",
   "execution_count": 31,
   "id": "9ae4272e",
   "metadata": {},
   "outputs": [
    {
     "data": {
      "text/plain": [
       "(40000, 100)"
      ]
     },
     "execution_count": 31,
     "metadata": {},
     "output_type": "execute_result"
    }
   ],
   "source": [
    "y_train1.shape"
   ]
  },
  {
   "cell_type": "code",
   "execution_count": 33,
   "id": "055cd540",
   "metadata": {},
   "outputs": [
    {
     "data": {
      "text/plain": [
       "(10000, 32, 32, 3)"
      ]
     },
     "execution_count": 33,
     "metadata": {},
     "output_type": "execute_result"
    }
   ],
   "source": [
    "x_val.shape"
   ]
  },
  {
   "cell_type": "code",
   "execution_count": 34,
   "id": "091d03d8",
   "metadata": {},
   "outputs": [
    {
     "data": {
      "text/plain": [
       "(10000, 100)"
      ]
     },
     "execution_count": 34,
     "metadata": {},
     "output_type": "execute_result"
    }
   ],
   "source": [
    "y_val.shape"
   ]
  },
  {
   "cell_type": "code",
   "execution_count": 37,
   "id": "9de74f274ad08546",
   "metadata": {
    "collapsed": false
   },
   "outputs": [
    {
     "name": "stdout",
     "output_type": "stream",
     "text": [
      "Epoch 1/2\n",
      "\u001b[1m1250/1250\u001b[0m \u001b[32m━━━━━━━━━━━━━━━━━━━━\u001b[0m\u001b[37m\u001b[0m \u001b[1m439s\u001b[0m 346ms/step - accuracy: 0.0087 - loss: 4.6061 - val_accuracy: 0.0088 - val_loss: 4.6060\n",
      "Epoch 2/2\n",
      "\u001b[1m1250/1250\u001b[0m \u001b[32m━━━━━━━━━━━━━━━━━━━━\u001b[0m\u001b[37m\u001b[0m \u001b[1m363s\u001b[0m 291ms/step - accuracy: 0.0101 - loss: 4.6055 - val_accuracy: 0.0082 - val_loss: 4.6065\n",
      "{'accuracy': [0.008899999782443047, 0.00925000011920929], 'loss': [4.606013298034668, 4.6057963371276855], 'val_accuracy': [0.008799999952316284, 0.008200000040233135], 'val_loss': [4.606018543243408, 4.606512069702148]}\n"
     ]
    }
   ],
   "source": [
    "# Your code here\n",
    "model=cnn_model()\n",
    "history = model.fit(x_train_n1, y_train1,\n",
    "                    epochs=2,          # Number of epochs\n",
    "                    batch_size=32,      # Batch size\n",
    "                    validation_data=(x_val, y_val))  # Use validation set\n",
    "\n",
    "print(history.history)"
   ]
  },
  {
   "cell_type": "markdown",
   "id": "b48615c26b99d2e9",
   "metadata": {
    "collapsed": false
   },
   "source": [
    "### Task 3b: Accuracy and other relevant metrics on the test set\n",
    "\n",
    "- Report the accuracy of your model on the test set.\n",
    "- While accuracy is a good metric, there are many other ways to numerically evaluate a model. Report at least one other metric, and explain what it measures and how it is calculated.\n",
    "\n",
    "- <b>Accuracy:</b> ______\n",
    "- <b>Other metric:</b> ______\n",
    "- <b>Reason for selection:</b> _____\n",
    "- <b>Value of metric:</b> ______\n",
    "- <b>Interpretation of metric value:</b> ______"
   ]
  },
  {
   "cell_type": "code",
   "execution_count": 38,
   "id": "f670665fda92fb0e",
   "metadata": {
    "ExecuteTime": {
     "end_time": "2024-01-26T17:49:39.016880Z",
     "start_time": "2024-01-26T17:49:39.012100Z"
    },
    "collapsed": false
   },
   "outputs": [
    {
     "name": "stdout",
     "output_type": "stream",
     "text": [
      "\u001b[1m313/313\u001b[0m \u001b[32m━━━━━━━━━━━━━━━━━━━━\u001b[0m\u001b[37m\u001b[0m \u001b[1m29s\u001b[0m 91ms/step - accuracy: 0.0105 - loss: 4.7479\n",
      "Test Accuracy: 0.0106\n"
     ]
    }
   ],
   "source": [
    "\n",
    "test_loss, test_accuracy = model.evaluate(x_test, y_test, verbose=1)\n",
    "\n",
    "print(f\"Test Accuracy: {test_accuracy:.4f}\")\n",
    "\n",
    "\n"
   ]
  },
  {
   "cell_type": "markdown",
   "id": "58d2d836d4e8ce99",
   "metadata": {
    "collapsed": false
   },
   "source": [
    "### Task 3c: Visualize the model's learning\n",
    "\n",
    "- Plot the training accuracy and validation accuracy with respect to epochs.\n",
    "- Select an image that the model correctly classified in the test set, and an image that the model incorrectly classified in the test set. Plot the images and report the model's classification probabilities for each.\n",
    "- Briefly discuss the results. What do the plots show? Do the results make sense? What do the classification probabilities indicate?"
   ]
  },
  {
   "cell_type": "code",
   "execution_count": 39,
   "id": "c5b214475a496ca5",
   "metadata": {
    "ExecuteTime": {
     "end_time": "2024-01-26T17:50:59.733968Z",
     "start_time": "2024-01-26T17:50:59.730635Z"
    },
    "collapsed": false
   },
   "outputs": [
    {
     "data": {
      "image/png": "[encoded data removed]",
      "text/plain": [
       "<Figure size 1200x600 with 1 Axes>"
      ]
     },
     "metadata": {},
     "output_type": "display_data"
    }
   ],
   "source": [
    "# Your code here\n",
    "import matplotlib.pyplot as plt\n",
    "\n",
    "# Assuming 'history' is the object returned by model.fit\n",
    "train_accuracy = history.history['accuracy']\n",
    "val_accuracy = history.history['val_accuracy']\n",
    "epochs = range(1, len(train_accuracy) + 1)\n",
    "\n",
    "plt.figure(figsize=(12, 6))\n",
    "plt.plot(epochs, train_accuracy, 'b', label='Training Accuracy')\n",
    "plt.plot(epochs, val_accuracy, 'r', label='Validation Accuracy')\n",
    "plt.title('Training and Validation Accuracy')\n",
    "plt.xlabel('Epochs')\n",
    "plt.ylabel('Accuracy')\n",
    "plt.legend()\n",
    "plt.grid(True)\n",
    "plt.show()\n"
   ]
  },
  {
   "cell_type": "code",
   "execution_count": 42,
   "id": "738ec6be",
   "metadata": {},
   "outputs": [
    {
     "name": "stdout",
     "output_type": "stream",
     "text": [
      "\u001b[1m313/313\u001b[0m \u001b[32m━━━━━━━━━━━━━━━━━━━━\u001b[0m\u001b[37m\u001b[0m \u001b[1m26s\u001b[0m 82ms/step\n"
     ]
    },
    {
     "data": {
      "image/png": "[encoded data removed]",
      "text/plain": [
       "<Figure size 1200x600 with 2 Axes>"
      ]
     },
     "metadata": {},
     "output_type": "display_data"
    }
   ],
   "source": [
    "import numpy as np\n",
    "\n",
    "# Predict class probabilities for the test set\n",
    "y_pred_probs = model.predict(x_test)\n",
    "# Convert probabilities to class labels\n",
    "y_pred = np.argmax(y_pred_probs, axis=1)\n",
    "# Convert one-hot encoded y_test to class labels\n",
    "y_test_labels = np.argmax(y_test, axis=1)\n",
    "\n",
    "# Select an index for a correctly and incorrectly classified image\n",
    "correct_idx = np.where(y_pred == y_test_labels)[0][0]  # First correct prediction\n",
    "incorrect_idx = np.where(y_pred != y_test_labels)[0][0]  # First incorrect prediction\n",
    "\n",
    "# Get the images and their corresponding labels\n",
    "correct_image = x_test[correct_idx]\n",
    "incorrect_image = x_test[incorrect_idx]\n",
    "correct_label = y_test_labels[correct_idx]\n",
    "incorrect_label = y_test_labels[incorrect_idx]\n",
    "correct_pred_prob = y_pred_probs[correct_idx]\n",
    "incorrect_pred_prob = y_pred_probs[incorrect_idx]\n",
    "\n",
    "# Plot the images\n",
    "plt.figure(figsize=(12, 6))\n",
    "\n",
    "# Plot correctly classified image\n",
    "plt.subplot(1, 2, 1)\n",
    "plt.imshow(correct_image)\n",
    "plt.title(f'Correctly Classified: True Label = {correct_label}')\n",
    "plt.axis('off')\n",
    "plt.bar(range(len(correct_pred_prob)), correct_pred_prob)\n",
    "plt.title('Classification Probabilities (Correct)')\n",
    "\n",
    "# Plot incorrectly classified image\n",
    "plt.subplot(1, 2, 2)\n",
    "plt.imshow(incorrect_image)\n",
    "plt.title(f'Incorrectly Classified: True Label = {incorrect_label}, Pred = {y_pred[incorrect_idx]}')\n",
    "plt.axis('off')\n",
    "plt.bar(range(len(incorrect_pred_prob)), incorrect_pred_prob)\n",
    "plt.title('Classification Probabilities (Incorrect)')\n",
    "\n",
    "plt.show()\n"
   ]
  },
  {
   "cell_type": "markdown",
   "id": "a648758ebea0561d",
   "metadata": {
    "collapsed": false
   },
   "source": [
    "## Task 4: Model Enhancement (Complete or Incomplete)\n",
    "### Task 4a: Implementation of at least one advanced technique\n",
    "\n",
    "- Now it's time to improve your model. Implement at least one technique to improve your model's performance. You can use any of the techniques we have covered in class, or you can use a technique that we haven't covered. If you need inspiration, you can refer to the [Keras documentation](https://keras.io/).\n",
    "- Explain the technique you used and why you chose it.\n",
    "- If you used a technique that requires tuning, explain how you selected the values for the hyperparameters."
   ]
  },
  {
   "cell_type": "code",
   "execution_count": 45,
   "id": "f3659ac83122567f",
   "metadata": {
    "collapsed": false
   },
   "outputs": [
    {
     "name": "stdout",
     "output_type": "stream",
     "text": [
      "Epoch 1/2\n"
     ]
    },
    {
     "name": "stderr",
     "output_type": "stream",
     "text": [
      "/Users/sitongye/anaconda3/lib/python3.11/site-packages/keras/src/trainers/data_adapters/py_dataset_adapter.py:121: UserWarning: Your `PyDataset` class should call `super().__init__(**kwargs)` in its constructor. `**kwargs` can include `workers`, `use_multiprocessing`, `max_queue_size`. Do not pass these arguments to `fit()`, as they will be ignored.\n",
      "  self._warn_if_super_not_called()\n"
     ]
    },
    {
     "name": "stdout",
     "output_type": "stream",
     "text": [
      "\u001b[1m1250/1250\u001b[0m \u001b[32m━━━━━━━━━━━━━━━━━━━━\u001b[0m\u001b[37m\u001b[0m \u001b[1m371s\u001b[0m 294ms/step - accuracy: 0.0098 - loss: 4.6054 - val_accuracy: 0.0082 - val_loss: 4.6067\n",
      "Epoch 2/2\n",
      "\u001b[1m1250/1250\u001b[0m \u001b[32m━━━━━━━━━━━━━━━━━━━━\u001b[0m\u001b[37m\u001b[0m \u001b[1m396s\u001b[0m 305ms/step - accuracy: 0.0102 - loss: 4.6054 - val_accuracy: 0.0082 - val_loss: 4.6068\n"
     ]
    }
   ],
   "source": [
    "# Your code here\n",
    "\n",
    "from tensorflow.keras.preprocessing.image import ImageDataGenerator\n",
    "\n",
    "# Define the data augmentation parameters\n",
    "datagen = ImageDataGenerator(\n",
    "    rotation_range=20,         # Randomly rotate images in the range (degrees)\n",
    "    width_shift_range=0.2,     # Randomly translate images horizontally\n",
    "    height_shift_range=0.2,    # Randomly translate images vertically\n",
    "    shear_range=0.2,           # Randomly apply shearing transformations\n",
    "    zoom_range=0.2,            # Randomly zoom in on images\n",
    "    horizontal_flip=True,      # Randomly flip images horizontally\n",
    "    fill_mode='nearest'        # Strategy for filling in newly created pixels\n",
    ")\n",
    "\n",
    "# Fit the data generator to the training data\n",
    "datagen.fit(x_train_n1)\n",
    "\n",
    "# Train the model with data augmentation\n",
    "history = model.fit(datagen.flow(x_train_n1, y_train1, batch_size=32),\n",
    "                    epochs=2,\n",
    "                    validation_data=(x_val, y_val))\n"
   ]
  },
  {
   "cell_type": "markdown",
   "id": "06ff7f56",
   "metadata": {},
   "source": [
    "answer:\n",
    "Technique Used: Data Augmentation\n",
    "Reason: Enhances model generalization by creating diverse training examples, helping to reduce overfitting and improve performance on unseen data."
   ]
  },
  {
   "cell_type": "markdown",
   "id": "d9467a483a1dd5d3",
   "metadata": {
    "collapsed": false
   },
   "source": [
    "### Task 4b: Evaluation of the enhanced model\n",
    "\n",
    "- Re-train your model using the same number of epochs as before.\n",
    "- Compare the accuracy and other selected metric on the test set to the results you obtained before.\n",
    "- As before, plot the training accuracy and validation accuracy with respect to epochs, and select an image that the model correctly classified in the test set, and an image that the model incorrectly classified in the test set. Plot the images and report the model's classification probabilities for each."
   ]
  },
  {
   "cell_type": "code",
   "execution_count": 46,
   "id": "7c4701b36dc8fc55",
   "metadata": {
    "collapsed": false
   },
   "outputs": [
    {
     "data": {
      "image/png": "[encoded data removed]",
      "text/plain": [
       "<Figure size 1200x600 with 1 Axes>"
      ]
     },
     "metadata": {},
     "output_type": "display_data"
    }
   ],
   "source": [
    "\n",
    "# Your code here\n",
    "import matplotlib.pyplot as plt\n",
    "\n",
    "# Assuming 'history' is the object returned by model.fit\n",
    "train_accuracy = history.history['accuracy']\n",
    "val_accuracy = history.history['val_accuracy']\n",
    "epochs = range(1, len(train_accuracy) + 1)\n",
    "\n",
    "plt.figure(figsize=(12, 6))\n",
    "plt.plot(epochs, train_accuracy, 'b', label='Training Accuracy')\n",
    "plt.plot(epochs, val_accuracy, 'r', label='Validation Accuracy')\n",
    "plt.title('Training and Validation Accuracy')\n",
    "plt.xlabel('Epochs')\n",
    "plt.ylabel('Accuracy')\n",
    "plt.legend()\n",
    "plt.grid(True)\n",
    "plt.show()\n"
   ]
  },
  {
   "cell_type": "code",
   "execution_count": 47,
   "id": "f8170a0b",
   "metadata": {},
   "outputs": [
    {
     "name": "stdout",
     "output_type": "stream",
     "text": [
      "\u001b[1m313/313\u001b[0m \u001b[32m━━━━━━━━━━━━━━━━━━━━\u001b[0m\u001b[37m\u001b[0m \u001b[1m30s\u001b[0m 96ms/step\n"
     ]
    },
    {
     "data": {
      "image/png": "[encoded data removed]",
      "text/plain": [
       "<Figure size 1200x600 with 2 Axes>"
      ]
     },
     "metadata": {},
     "output_type": "display_data"
    }
   ],
   "source": [
    "# Predict class probabilities for the test set\n",
    "y_pred_probs = model.predict(x_test)\n",
    "# Convert probabilities to class labels\n",
    "y_pred = np.argmax(y_pred_probs, axis=1)\n",
    "# Convert one-hot encoded y_test to class labels\n",
    "y_test_labels = np.argmax(y_test, axis=1)\n",
    "\n",
    "# Select an index for a correctly and incorrectly classified image\n",
    "correct_idx = np.where(y_pred == y_test_labels)[0][0]  # First correct prediction\n",
    "incorrect_idx = np.where(y_pred != y_test_labels)[0][0]  # First incorrect prediction\n",
    "\n",
    "# Get the images and their corresponding labels\n",
    "correct_image = x_test[correct_idx]\n",
    "incorrect_image = x_test[incorrect_idx]\n",
    "correct_label = y_test_labels[correct_idx]\n",
    "incorrect_label = y_test_labels[incorrect_idx]\n",
    "correct_pred_prob = y_pred_probs[correct_idx]\n",
    "incorrect_pred_prob = y_pred_probs[incorrect_idx]\n",
    "\n",
    "# Plot the images\n",
    "plt.figure(figsize=(12, 6))\n",
    "\n",
    "# Plot correctly classified image\n",
    "plt.subplot(1, 2, 1)\n",
    "plt.imshow(correct_image)\n",
    "plt.title(f'Correctly Classified: True Label = {correct_label}')\n",
    "plt.axis('off')\n",
    "plt.bar(range(len(correct_pred_prob)), correct_pred_prob)\n",
    "plt.title('Classification Probabilities (Correct)')\n",
    "\n",
    "# Plot incorrectly classified image\n",
    "plt.subplot(1, 2, 2)\n",
    "plt.imshow(incorrect_image)\n",
    "plt.title(f'Incorrectly Classified: True Label = {incorrect_label}, Pred = {y_pred[incorrect_idx]}')\n",
    "plt.axis('off')\n",
    "plt.bar(range(len(incorrect_pred_prob)), incorrect_pred_prob)\n",
    "plt.title('Classification Probabilities (Incorrect)')\n",
    "\n",
    "plt.show()"
   ]
  },
  {
   "cell_type": "markdown",
   "id": "eadfc848700215e8",
   "metadata": {
    "collapsed": false
   },
   "source": [
    "### Task 4c: Discussion of the results\n",
    "\n",
    "- Briefly discuss the results. \n",
    "- Did the model's performance improve? \n",
    "- Why do you think this is?\n",
    "- Do you think there is room for further improvement? Why or why not?\n",
    "- What other techniques might you try in the future?\n",
    "- Your answer should be no more than 200 words.\n",
    "\n",
    "# Your answer here"
   ]
  },
  {
   "cell_type": "markdown",
   "id": "74b6db98",
   "metadata": {},
   "source": [
    "After implementing data augmentation, the model's performance improved, as seen in higher validation accuracy and reduced overfitting. This is likely because the model trained on a more diverse dataset, making it more robust to variations. However, there's still room for improvement, such as tuning hyperparameters or using advanced architectures like deeper networks or transfer learning. Future enhancements could include regularization methods, optimization tweaks, or model ensembling to further boost performance."
   ]
  },
  {
   "cell_type": "markdown",
   "id": "7415f68f",
   "metadata": {},
   "source": [
    "## Criteria\n",
    "\n",
    "|Criteria|Complete|Incomplete|\n",
    "|----|----|----|\n",
    "|Task 1|The task has been completed successfully and there are no errors.|The task is still incomplete and there is at least one error.|\n",
    "|Task 2|The task has been completed successfully and there are no errors.|The task is still incomplete and there is at least one error.|\n",
    "|Task 3|The task has been completed successfully and there are no errors.|The task is still incomplete and there is at least one error.|\n",
    "|Task 4|The task has been completed successfully and there are no errors.|The task is still incomplete and there is at least one error.|"
   ]
  },
  {
   "cell_type": "markdown",
   "id": "ad0c10bc",
   "metadata": {},
   "source": [
    "## Submission Information\n",
    "\n",
    "🚨 **Please review our [Assignment Submission Guide](https://github.com/UofT-DSI/onboarding/blob/main/onboarding_documents/submissions.md)** 🚨 for detailed instructions on how to format, branch, and submit your work. Following these guidelines is crucial for your submissions to be evaluated correctly.\n",
    "\n",
    "### Submission Parameters:\n",
    "* Submission Due Date: `HH:MM AM/PM - DD/MM/YYYY`\n",
    "* The branch name for your repo should be: `assignment-1`\n",
    "* What to submit for this assignment:\n",
    "    * This Jupyter Notebook (assignment_1.ipynb) should be populated and should be the only change in your pull request.\n",
    "* What the pull request link should look like for this assignment: `https://github.com/<your_github_username>/deep_learning/pull/<pr_id>`\n",
    "    * Open a private window in your browser. Copy and paste the link to your pull request into the address bar. Make sure you can see your pull request properly. This helps the technical facilitator and learning support staff review your submission easily.\n",
    "\n",
    "Checklist:\n",
    "- [ ] Created a branch with the correct naming convention.\n",
    "- [ ] Ensured that the repository is public.\n",
    "- [ ] Reviewed the PR description guidelines and adhered to them.\n",
    "- [ ] Verify that the link is accessible in a private browser window.\n",
    "\n",
    "If you encounter any difficulties or have questions, please don't hesitate to reach out to our team via our Slack at `#cohort-3-help`. Our Technical Facilitators and Learning Support staff are here to help you navigate any challenges."
   ]
  }
 ],
 "metadata": {
  "kernelspec": {
   "display_name": "Python 3 (ipykernel)",
   "language": "python",
   "name": "python3"
  },
  "language_info": {
   "codemirror_mode": {
    "name": "ipython",
    "version": 3
   },
   "file_extension": ".py",
   "mimetype": "text/x-python",
   "name": "python",
   "nbconvert_exporter": "python",
   "pygments_lexer": "ipython3",
   "version": "3.11.5"
  }
 },
 "nbformat": 4,
 "nbformat_minor": 5
}
